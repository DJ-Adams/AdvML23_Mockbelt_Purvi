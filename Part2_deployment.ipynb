{
 "cells": [
  {
   "cell_type": "markdown",
   "id": "95c0e85a-9bda-4840-b1fe-4d2910e674d6",
   "metadata": {},
   "source": [
    "**For this part of the exam, you will create a Streamlit app that will allow users to predict the price of a home by inputting certain information about it.  It will include inputs for features of the home and produce a predicted price.**"
   ]
  },
  {
   "cell_type": "markdown",
   "id": "87e1df94-5d5a-4259-bf42-abcce5bdcc58",
   "metadata": {},
   "source": [
    "Load in the provided ML model (part2-model-pipeline.joblib) and training data (part2-training-data.joblib) to determine which features were used and the range of values included in each feature. If you receive an error about no module named dill, run “!pip install dill” in your notebook before using joblib.load"
   ]
  },
  {
   "cell_type": "code",
   "execution_count": 1,
   "id": "f13c5b1f-9c44-4e76-84a5-e62e9ce0f685",
   "metadata": {},
   "outputs": [
    {
     "name": "stdout",
     "output_type": "stream",
     "text": [
      "Requirement already satisfied: dill in /opt/homebrew/Caskroom/miniforge/base/envs/dojo-env/lib/python3.10/site-packages (0.3.7)\n",
      "Note: you may need to restart the kernel to use updated packages.\n"
     ]
    }
   ],
   "source": [
    "pip install dill"
   ]
  },
  {
   "cell_type": "markdown",
   "id": "f75161fb-c249-43d1-8157-8427d77051a0",
   "metadata": {},
   "source": [
    "### Load in the filepaths.json file from the config folder."
   ]
  },
  {
   "cell_type": "code",
   "execution_count": 2,
   "id": "16746c0a-e2d1-4623-b980-95bd77a96a73",
   "metadata": {},
   "outputs": [],
   "source": [
    "# import joblib\n",
    "\n",
    "# X_train, y_train = joblib.load('Models/part2-training-data.joblib')"
   ]
  },
  {
   "cell_type": "code",
   "execution_count": 3,
   "id": "9dd6354a-7c34-41db-b265-2f86067a8691",
   "metadata": {},
   "outputs": [],
   "source": [
    "# X_train.head()"
   ]
  },
  {
   "cell_type": "code",
   "execution_count": 4,
   "id": "83fbb2f8-f147-4f20-b818-e29592196ebb",
   "metadata": {},
   "outputs": [],
   "source": [
    "# y_train.head()"
   ]
  },
  {
   "cell_type": "code",
   "execution_count": 5,
   "id": "b7561e16-9b58-43eb-93cc-591c32becf8d",
   "metadata": {},
   "outputs": [],
   "source": [
    "# model_pipeline = joblib.load('Models/part2-model-pipeline.joblib')"
   ]
  },
  {
   "cell_type": "code",
   "execution_count": 6,
   "id": "59472271-c076-4e7b-a5c7-eeba2082f7ab",
   "metadata": {},
   "outputs": [],
   "source": [
    "# model_pipeline"
   ]
  },
  {
   "cell_type": "code",
   "execution_count": 7,
   "id": "3411deda-cbbf-44ea-9969-e46e446d36ca",
   "metadata": {},
   "outputs": [
    {
     "data": {
      "text/plain": [
       "{'data': {'ml': {'train': 'data/part2-training-data.joblib',\n",
       "   'test': 'data/part2-test-data.joblib'}},\n",
       " 'models': {'linear_regression': 'models/part2-model-pipeline.joblib'}}"
      ]
     },
     "execution_count": 7,
     "metadata": {},
     "output_type": "execute_result"
    }
   ],
   "source": [
    "import joblib, json\n",
    "with open('config/filepaths.json') as f:\n",
    "    FPATHS = json.load(f)\n",
    "FPATHS"
   ]
  },
  {
   "cell_type": "markdown",
   "id": "fd05ad44-6c09-405e-8b3a-ded3d539db7b",
   "metadata": {},
   "source": [
    "### Use the filepaths dictionary to load in the provided ML model and training data (X_train, y_train) to determine which features were used and the range of values included in each feature."
   ]
  },
  {
   "cell_type": "code",
   "execution_count": 8,
   "id": "2094dd12-e3a3-43fd-8f3d-7d58f8dbb97a",
   "metadata": {},
   "outputs": [],
   "source": [
    "# # Define the filepath using the new dictionary structure\n",
    "# # load train data \n",
    "# traindata = FPATHS['data']['ml']['train']\n",
    "# [X_train,y_train] = joblib.load(traindata)\n",
    "\n",
    "# # load test data \n",
    "# testdata = FPATHS['data']['ml']['test']\n",
    "# [X_test,y_test] = joblib.load(testdata)\n",
    "\n",
    "# # display Xtrain and Xtest\n",
    "\n",
    "# X_train.head()\n"
   ]
  },
  {
   "cell_type": "code",
   "execution_count": 9,
   "id": "cfc3f27d-01e5-4557-9d59-bb6b099df9e2",
   "metadata": {},
   "outputs": [
    {
     "name": "stderr",
     "output_type": "stream",
     "text": [
      "2024-01-18 13:29:34.107 WARNING streamlit.runtime.caching.cache_data_api: No runtime found, using MemoryCacheStorageManager\n"
     ]
    }
   ],
   "source": [
    "import streamlit as st\n",
    "@st.cache_data\n",
    "def load_Xy_data(fpath):\n",
    "    train_path = fpath['data']['ml']['train']\n",
    "    X_train, y_train =  joblib.load(train_path)\n",
    "    test_path = fpath['data']['ml']['test']\n",
    "    X_test, y_test = joblib.load(test_path)\n",
    "    return X_train, y_train, X_test, y_test\n",
    " \n",
    "@st.cache_resource\n",
    "def load_model_ml(fpath):\n",
    "    model_path = fpath['models']['linear_regression']\n",
    "    linreg = joblib.load(model_path)\n",
    "    return linreg"
   ]
  },
  {
   "cell_type": "code",
   "execution_count": 10,
   "id": "28c1231b-7c1e-422b-a9d5-9d9816adf44a",
   "metadata": {},
   "outputs": [
    {
     "name": "stderr",
     "output_type": "stream",
     "text": [
      "2024-01-18 13:29:34.203 \n",
      "  \u001b[33m\u001b[1mWarning:\u001b[0m to view this Streamlit app on a browser, run it with the following\n",
      "  command:\n",
      "\n",
      "    streamlit run /opt/homebrew/Caskroom/miniforge/base/envs/dojo-env/lib/python3.10/site-packages/ipykernel_launcher.py [ARGUMENTS]\n",
      "2024-01-18 13:29:34.204 No runtime found, using MemoryCacheStorageManager\n"
     ]
    }
   ],
   "source": [
    "X_train, y_train, X_test, y_test = load_Xy_data(FPATHS)"
   ]
  },
  {
   "cell_type": "code",
   "execution_count": 11,
   "id": "8dbf2a82-e2b7-441e-8aac-ba3c6ac19493",
   "metadata": {},
   "outputs": [
    {
     "data": {
      "text/html": [
       "<div>\n",
       "<style scoped>\n",
       "    .dataframe tbody tr th:only-of-type {\n",
       "        vertical-align: middle;\n",
       "    }\n",
       "\n",
       "    .dataframe tbody tr th {\n",
       "        vertical-align: top;\n",
       "    }\n",
       "\n",
       "    .dataframe thead th {\n",
       "        text-align: right;\n",
       "    }\n",
       "</style>\n",
       "<table border=\"1\" class=\"dataframe\">\n",
       "  <thead>\n",
       "    <tr style=\"text-align: right;\">\n",
       "      <th></th>\n",
       "      <th>bedrooms</th>\n",
       "      <th>bathrooms</th>\n",
       "      <th>sqft_living</th>\n",
       "    </tr>\n",
       "    <tr>\n",
       "      <th>id</th>\n",
       "      <th></th>\n",
       "      <th></th>\n",
       "      <th></th>\n",
       "    </tr>\n",
       "  </thead>\n",
       "  <tbody>\n",
       "    <tr>\n",
       "      <th>5416500660</th>\n",
       "      <td>4</td>\n",
       "      <td>2.50</td>\n",
       "      <td>2960</td>\n",
       "    </tr>\n",
       "    <tr>\n",
       "      <th>259801030</th>\n",
       "      <td>4</td>\n",
       "      <td>2.00</td>\n",
       "      <td>1610</td>\n",
       "    </tr>\n",
       "    <tr>\n",
       "      <th>7577700185</th>\n",
       "      <td>4</td>\n",
       "      <td>1.00</td>\n",
       "      <td>1440</td>\n",
       "    </tr>\n",
       "    <tr>\n",
       "      <th>1939000030</th>\n",
       "      <td>4</td>\n",
       "      <td>2.50</td>\n",
       "      <td>2540</td>\n",
       "    </tr>\n",
       "    <tr>\n",
       "      <th>7524950870</th>\n",
       "      <td>4</td>\n",
       "      <td>2.25</td>\n",
       "      <td>2110</td>\n",
       "    </tr>\n",
       "  </tbody>\n",
       "</table>\n",
       "</div>"
      ],
      "text/plain": [
       "            bedrooms  bathrooms  sqft_living\n",
       "id                                          \n",
       "5416500660         4       2.50         2960\n",
       "259801030          4       2.00         1610\n",
       "7577700185         4       1.00         1440\n",
       "1939000030         4       2.50         2540\n",
       "7524950870         4       2.25         2110"
      ]
     },
     "execution_count": 11,
     "metadata": {},
     "output_type": "execute_result"
    }
   ],
   "source": [
    "X_test.head()"
   ]
  },
  {
   "cell_type": "code",
   "execution_count": 12,
   "id": "022233c1-fa70-49d2-8e13-5efa3f86e7a7",
   "metadata": {},
   "outputs": [
    {
     "name": "stdout",
     "output_type": "stream",
     "text": [
      "<class 'pandas.core.frame.DataFrame'>\n",
      "Int64Index: 15905 entries, 2473372170 to 7806450190\n",
      "Data columns (total 3 columns):\n",
      " #   Column       Non-Null Count  Dtype  \n",
      "---  ------       --------------  -----  \n",
      " 0   bedrooms     15905 non-null  int64  \n",
      " 1   bathrooms    15905 non-null  float64\n",
      " 2   sqft_living  15905 non-null  int64  \n",
      "dtypes: float64(1), int64(2)\n",
      "memory usage: 497.0 KB\n"
     ]
    }
   ],
   "source": [
    "X_train.info()"
   ]
  },
  {
   "cell_type": "code",
   "execution_count": 13,
   "id": "02533834-b47e-49fc-a7f1-088b0d5fc501",
   "metadata": {},
   "outputs": [],
   "source": [
    "# # Now we can save our model using the filepath from the dictionary\n",
    "# linreg_path = FPATHS['models']['linear_regression']\n",
    "# linreg_path\n",
    "\n",
    "\n",
    "# linreg_model = joblib.load(linreg_path)"
   ]
  },
  {
   "cell_type": "code",
   "execution_count": 14,
   "id": "c44a4c03-b375-4efc-869e-a3e593c80a8d",
   "metadata": {},
   "outputs": [],
   "source": [
    "linreg_model = load_model_ml(FPATHS)"
   ]
  },
  {
   "cell_type": "code",
   "execution_count": 15,
   "id": "a7fdbae8-a480-4723-b6cd-e5e591c310eb",
   "metadata": {},
   "outputs": [
    {
     "data": {
      "text/html": [
       "<style>#sk-container-id-1 {color: black;background-color: white;}#sk-container-id-1 pre{padding: 0;}#sk-container-id-1 div.sk-toggleable {background-color: white;}#sk-container-id-1 label.sk-toggleable__label {cursor: pointer;display: block;width: 100%;margin-bottom: 0;padding: 0.3em;box-sizing: border-box;text-align: center;}#sk-container-id-1 label.sk-toggleable__label-arrow:before {content: \"▸\";float: left;margin-right: 0.25em;color: #696969;}#sk-container-id-1 label.sk-toggleable__label-arrow:hover:before {color: black;}#sk-container-id-1 div.sk-estimator:hover label.sk-toggleable__label-arrow:before {color: black;}#sk-container-id-1 div.sk-toggleable__content {max-height: 0;max-width: 0;overflow: hidden;text-align: left;background-color: #f0f8ff;}#sk-container-id-1 div.sk-toggleable__content pre {margin: 0.2em;color: black;border-radius: 0.25em;background-color: #f0f8ff;}#sk-container-id-1 input.sk-toggleable__control:checked~div.sk-toggleable__content {max-height: 200px;max-width: 100%;overflow: auto;}#sk-container-id-1 input.sk-toggleable__control:checked~label.sk-toggleable__label-arrow:before {content: \"▾\";}#sk-container-id-1 div.sk-estimator input.sk-toggleable__control:checked~label.sk-toggleable__label {background-color: #d4ebff;}#sk-container-id-1 div.sk-label input.sk-toggleable__control:checked~label.sk-toggleable__label {background-color: #d4ebff;}#sk-container-id-1 input.sk-hidden--visually {border: 0;clip: rect(1px 1px 1px 1px);clip: rect(1px, 1px, 1px, 1px);height: 1px;margin: -1px;overflow: hidden;padding: 0;position: absolute;width: 1px;}#sk-container-id-1 div.sk-estimator {font-family: monospace;background-color: #f0f8ff;border: 1px dotted black;border-radius: 0.25em;box-sizing: border-box;margin-bottom: 0.5em;}#sk-container-id-1 div.sk-estimator:hover {background-color: #d4ebff;}#sk-container-id-1 div.sk-parallel-item::after {content: \"\";width: 100%;border-bottom: 1px solid gray;flex-grow: 1;}#sk-container-id-1 div.sk-label:hover label.sk-toggleable__label {background-color: #d4ebff;}#sk-container-id-1 div.sk-serial::before {content: \"\";position: absolute;border-left: 1px solid gray;box-sizing: border-box;top: 0;bottom: 0;left: 50%;z-index: 0;}#sk-container-id-1 div.sk-serial {display: flex;flex-direction: column;align-items: center;background-color: white;padding-right: 0.2em;padding-left: 0.2em;position: relative;}#sk-container-id-1 div.sk-item {position: relative;z-index: 1;}#sk-container-id-1 div.sk-parallel {display: flex;align-items: stretch;justify-content: center;background-color: white;position: relative;}#sk-container-id-1 div.sk-item::before, #sk-container-id-1 div.sk-parallel-item::before {content: \"\";position: absolute;border-left: 1px solid gray;box-sizing: border-box;top: 0;bottom: 0;left: 50%;z-index: -1;}#sk-container-id-1 div.sk-parallel-item {display: flex;flex-direction: column;z-index: 1;position: relative;background-color: white;}#sk-container-id-1 div.sk-parallel-item:first-child::after {align-self: flex-end;width: 50%;}#sk-container-id-1 div.sk-parallel-item:last-child::after {align-self: flex-start;width: 50%;}#sk-container-id-1 div.sk-parallel-item:only-child::after {width: 0;}#sk-container-id-1 div.sk-dashed-wrapped {border: 1px dashed gray;margin: 0 0.4em 0.5em 0.4em;box-sizing: border-box;padding-bottom: 0.4em;background-color: white;}#sk-container-id-1 div.sk-label label {font-family: monospace;font-weight: bold;display: inline-block;line-height: 1.2em;}#sk-container-id-1 div.sk-label-container {text-align: center;}#sk-container-id-1 div.sk-container {/* jupyter's `normalize.less` sets `[hidden] { display: none; }` but bootstrap.min.css set `[hidden] { display: none !important; }` so we also need the `!important` here to be able to override the default hidden behavior on the sphinx rendered scikit-learn.org. See: https://github.com/scikit-learn/scikit-learn/issues/21755 */display: inline-block !important;position: relative;}#sk-container-id-1 div.sk-text-repr-fallback {display: none;}</style><div id=\"sk-container-id-1\" class=\"sk-top-container\"><div class=\"sk-text-repr-fallback\"><pre>Pipeline(steps=[(&#x27;preprocess&#x27;,\n",
       "                 ColumnTransformer(transformers=[(&#x27;cat&#x27;,\n",
       "                                                  OneHotEncoder(drop=&#x27;first&#x27;,\n",
       "                                                                sparse_output=False),\n",
       "                                                  &lt;sklearn.compose._column_transformer.make_column_selector object at 0x1656d9ae0&gt;),\n",
       "                                                 (&#x27;num&#x27;, StandardScaler(),\n",
       "                                                  &lt;sklearn.compose._column_transformer.make_column_selector object at 0x1656da500&gt;)],\n",
       "                                   verbose_feature_names_out=False)),\n",
       "                (&#x27;reg&#x27;, LinearRegression())])</pre><b>In a Jupyter environment, please rerun this cell to show the HTML representation or trust the notebook. <br />On GitHub, the HTML representation is unable to render, please try loading this page with nbviewer.org.</b></div><div class=\"sk-container\" hidden><div class=\"sk-item sk-dashed-wrapped\"><div class=\"sk-label-container\"><div class=\"sk-label sk-toggleable\"><input class=\"sk-toggleable__control sk-hidden--visually\" id=\"sk-estimator-id-1\" type=\"checkbox\" ><label for=\"sk-estimator-id-1\" class=\"sk-toggleable__label sk-toggleable__label-arrow\">Pipeline</label><div class=\"sk-toggleable__content\"><pre>Pipeline(steps=[(&#x27;preprocess&#x27;,\n",
       "                 ColumnTransformer(transformers=[(&#x27;cat&#x27;,\n",
       "                                                  OneHotEncoder(drop=&#x27;first&#x27;,\n",
       "                                                                sparse_output=False),\n",
       "                                                  &lt;sklearn.compose._column_transformer.make_column_selector object at 0x1656d9ae0&gt;),\n",
       "                                                 (&#x27;num&#x27;, StandardScaler(),\n",
       "                                                  &lt;sklearn.compose._column_transformer.make_column_selector object at 0x1656da500&gt;)],\n",
       "                                   verbose_feature_names_out=False)),\n",
       "                (&#x27;reg&#x27;, LinearRegression())])</pre></div></div></div><div class=\"sk-serial\"><div class=\"sk-item sk-dashed-wrapped\"><div class=\"sk-label-container\"><div class=\"sk-label sk-toggleable\"><input class=\"sk-toggleable__control sk-hidden--visually\" id=\"sk-estimator-id-2\" type=\"checkbox\" ><label for=\"sk-estimator-id-2\" class=\"sk-toggleable__label sk-toggleable__label-arrow\">preprocess: ColumnTransformer</label><div class=\"sk-toggleable__content\"><pre>ColumnTransformer(transformers=[(&#x27;cat&#x27;,\n",
       "                                 OneHotEncoder(drop=&#x27;first&#x27;,\n",
       "                                               sparse_output=False),\n",
       "                                 &lt;sklearn.compose._column_transformer.make_column_selector object at 0x1656d9ae0&gt;),\n",
       "                                (&#x27;num&#x27;, StandardScaler(),\n",
       "                                 &lt;sklearn.compose._column_transformer.make_column_selector object at 0x1656da500&gt;)],\n",
       "                  verbose_feature_names_out=False)</pre></div></div></div><div class=\"sk-parallel\"><div class=\"sk-parallel-item\"><div class=\"sk-item\"><div class=\"sk-label-container\"><div class=\"sk-label sk-toggleable\"><input class=\"sk-toggleable__control sk-hidden--visually\" id=\"sk-estimator-id-3\" type=\"checkbox\" ><label for=\"sk-estimator-id-3\" class=\"sk-toggleable__label sk-toggleable__label-arrow\">cat</label><div class=\"sk-toggleable__content\"><pre>&lt;sklearn.compose._column_transformer.make_column_selector object at 0x1656d9ae0&gt;</pre></div></div></div><div class=\"sk-serial\"><div class=\"sk-item\"><div class=\"sk-estimator sk-toggleable\"><input class=\"sk-toggleable__control sk-hidden--visually\" id=\"sk-estimator-id-4\" type=\"checkbox\" ><label for=\"sk-estimator-id-4\" class=\"sk-toggleable__label sk-toggleable__label-arrow\">OneHotEncoder</label><div class=\"sk-toggleable__content\"><pre>OneHotEncoder(drop=&#x27;first&#x27;, sparse_output=False)</pre></div></div></div></div></div></div><div class=\"sk-parallel-item\"><div class=\"sk-item\"><div class=\"sk-label-container\"><div class=\"sk-label sk-toggleable\"><input class=\"sk-toggleable__control sk-hidden--visually\" id=\"sk-estimator-id-5\" type=\"checkbox\" ><label for=\"sk-estimator-id-5\" class=\"sk-toggleable__label sk-toggleable__label-arrow\">num</label><div class=\"sk-toggleable__content\"><pre>&lt;sklearn.compose._column_transformer.make_column_selector object at 0x1656da500&gt;</pre></div></div></div><div class=\"sk-serial\"><div class=\"sk-item\"><div class=\"sk-estimator sk-toggleable\"><input class=\"sk-toggleable__control sk-hidden--visually\" id=\"sk-estimator-id-6\" type=\"checkbox\" ><label for=\"sk-estimator-id-6\" class=\"sk-toggleable__label sk-toggleable__label-arrow\">StandardScaler</label><div class=\"sk-toggleable__content\"><pre>StandardScaler()</pre></div></div></div></div></div></div></div></div><div class=\"sk-item\"><div class=\"sk-estimator sk-toggleable\"><input class=\"sk-toggleable__control sk-hidden--visually\" id=\"sk-estimator-id-7\" type=\"checkbox\" ><label for=\"sk-estimator-id-7\" class=\"sk-toggleable__label sk-toggleable__label-arrow\">LinearRegression</label><div class=\"sk-toggleable__content\"><pre>LinearRegression()</pre></div></div></div></div></div></div></div>"
      ],
      "text/plain": [
       "Pipeline(steps=[('preprocess',\n",
       "                 ColumnTransformer(transformers=[('cat',\n",
       "                                                  OneHotEncoder(drop='first',\n",
       "                                                                sparse_output=False),\n",
       "                                                  <sklearn.compose._column_transformer.make_column_selector object at 0x1656d9ae0>),\n",
       "                                                 ('num', StandardScaler(),\n",
       "                                                  <sklearn.compose._column_transformer.make_column_selector object at 0x1656da500>)],\n",
       "                                   verbose_feature_names_out=False)),\n",
       "                ('reg', LinearRegression())])"
      ]
     },
     "execution_count": 15,
     "metadata": {},
     "output_type": "execute_result"
    }
   ],
   "source": [
    "linreg_model"
   ]
  },
  {
   "cell_type": "markdown",
   "id": "371fa7a2-1ca3-4435-af77-b3dc4d25dfab",
   "metadata": {},
   "source": [
    "### Explore the features\n"
   ]
  },
  {
   "cell_type": "code",
   "execution_count": 16,
   "id": "adba6020-8238-4c90-8266-640da8a75df5",
   "metadata": {},
   "outputs": [
    {
     "data": {
      "text/html": [
       "<div>\n",
       "<style scoped>\n",
       "    .dataframe tbody tr th:only-of-type {\n",
       "        vertical-align: middle;\n",
       "    }\n",
       "\n",
       "    .dataframe tbody tr th {\n",
       "        vertical-align: top;\n",
       "    }\n",
       "\n",
       "    .dataframe thead th {\n",
       "        text-align: right;\n",
       "    }\n",
       "</style>\n",
       "<table border=\"1\" class=\"dataframe\">\n",
       "  <thead>\n",
       "    <tr style=\"text-align: right;\">\n",
       "      <th></th>\n",
       "      <th>bedrooms</th>\n",
       "      <th>bathrooms</th>\n",
       "      <th>sqft_living</th>\n",
       "    </tr>\n",
       "  </thead>\n",
       "  <tbody>\n",
       "    <tr>\n",
       "      <th>count</th>\n",
       "      <td>15905.000000</td>\n",
       "      <td>15905.000000</td>\n",
       "      <td>15905.000000</td>\n",
       "    </tr>\n",
       "    <tr>\n",
       "      <th>mean</th>\n",
       "      <td>3.349010</td>\n",
       "      <td>2.088086</td>\n",
       "      <td>2030.448287</td>\n",
       "    </tr>\n",
       "    <tr>\n",
       "      <th>std</th>\n",
       "      <td>0.925197</td>\n",
       "      <td>0.736655</td>\n",
       "      <td>837.357259</td>\n",
       "    </tr>\n",
       "    <tr>\n",
       "      <th>min</th>\n",
       "      <td>0.000000</td>\n",
       "      <td>0.000000</td>\n",
       "      <td>290.000000</td>\n",
       "    </tr>\n",
       "    <tr>\n",
       "      <th>25%</th>\n",
       "      <td>3.000000</td>\n",
       "      <td>1.500000</td>\n",
       "      <td>1420.000000</td>\n",
       "    </tr>\n",
       "    <tr>\n",
       "      <th>50%</th>\n",
       "      <td>3.000000</td>\n",
       "      <td>2.250000</td>\n",
       "      <td>1890.000000</td>\n",
       "    </tr>\n",
       "    <tr>\n",
       "      <th>75%</th>\n",
       "      <td>4.000000</td>\n",
       "      <td>2.500000</td>\n",
       "      <td>2500.000000</td>\n",
       "    </tr>\n",
       "    <tr>\n",
       "      <th>max</th>\n",
       "      <td>33.000000</td>\n",
       "      <td>7.500000</td>\n",
       "      <td>7480.000000</td>\n",
       "    </tr>\n",
       "  </tbody>\n",
       "</table>\n",
       "</div>"
      ],
      "text/plain": [
       "           bedrooms     bathrooms   sqft_living\n",
       "count  15905.000000  15905.000000  15905.000000\n",
       "mean       3.349010      2.088086   2030.448287\n",
       "std        0.925197      0.736655    837.357259\n",
       "min        0.000000      0.000000    290.000000\n",
       "25%        3.000000      1.500000   1420.000000\n",
       "50%        3.000000      2.250000   1890.000000\n",
       "75%        4.000000      2.500000   2500.000000\n",
       "max       33.000000      7.500000   7480.000000"
      ]
     },
     "execution_count": 16,
     "metadata": {},
     "output_type": "execute_result"
    }
   ],
   "source": [
    "X_train.describe()"
   ]
  },
  {
   "cell_type": "code",
   "execution_count": 17,
   "id": "d095c094-0038-4b43-97d7-e3324c393f87",
   "metadata": {},
   "outputs": [],
   "source": [
    "import streamlit as st\n",
    "#bedrooms\n",
    "bedrooms = st.sidebar.slider('Bedrooms',\n",
    "                            min_value = X_train['bedrooms'].min(),\n",
    "                            max_value = X_train['bedrooms'].max(),\n",
    "                            step = 1, value = 3)\n"
   ]
  },
  {
   "cell_type": "code",
   "execution_count": 18,
   "id": "e62604c1-12a9-41d6-88f3-cade21b5555b",
   "metadata": {},
   "outputs": [
    {
     "data": {
      "text/plain": [
       "3"
      ]
     },
     "execution_count": 18,
     "metadata": {},
     "output_type": "execute_result"
    }
   ],
   "source": [
    "bedrooms"
   ]
  },
  {
   "cell_type": "code",
   "execution_count": 19,
   "id": "dbfe7a79-d690-42a8-ac67-138c190a896a",
   "metadata": {},
   "outputs": [],
   "source": [
    "#bathrooms\n",
    "bathrooms = st.sidebar.slider('Bathrooms',\n",
    "                             min_value = X_train['bathrooms'].min(),\n",
    "                             max_value = X_train['bathrooms'].max(),\n",
    "                             step = .25, value = 2.5)"
   ]
  },
  {
   "cell_type": "code",
   "execution_count": 20,
   "id": "558c8e46-24b4-40a3-bb4f-0c9f064f63ba",
   "metadata": {},
   "outputs": [
    {
     "data": {
      "text/plain": [
       "2.5"
      ]
     },
     "execution_count": 20,
     "metadata": {},
     "output_type": "execute_result"
    }
   ],
   "source": [
    "bathrooms"
   ]
  },
  {
   "cell_type": "code",
   "execution_count": 21,
   "id": "e0259fd9-aedb-4547-8e9a-bb4b1a3a3b63",
   "metadata": {},
   "outputs": [],
   "source": [
    "#sqft_living\n",
    "sqft_living = st.sidebar.number_input('Sqft Living Area',\n",
    "                                     min_value=290,\n",
    "                                     max_value=X_train['sqft_living'].max(),\n",
    "                                     step=150, value=2500)"
   ]
  },
  {
   "cell_type": "code",
   "execution_count": 22,
   "id": "3822058c-eca9-4f90-9bd1-1d590703d8b5",
   "metadata": {},
   "outputs": [],
   "source": [
    "# Define function to convert widget values to dataframe\n",
    "import pandas as pd\n",
    "def get_X_to_predict():\n",
    "    X_to_predict = pd.DataFrame({'Bedroom': bedrooms,\n",
    "                                 'Bathroom':bathrooms,\n",
    "                                 'Living Area Sqft':sqft_living},\n",
    "                             index=['House'])\n",
    "    return X_to_predict"
   ]
  },
  {
   "cell_type": "code",
   "execution_count": 23,
   "id": "2621ef2e-0f26-42da-97be-5c86297abf89",
   "metadata": {},
   "outputs": [],
   "source": [
    "def get_prediction(model,X_to_predict):\n",
    "    return  model.predict(X_to_predict)[0]"
   ]
  },
  {
   "cell_type": "code",
   "execution_count": 24,
   "id": "001aa5f0-3100-40de-968c-eef916479b11",
   "metadata": {},
   "outputs": [
    {
     "data": {
      "text/html": [
       "<div>\n",
       "<style scoped>\n",
       "    .dataframe tbody tr th:only-of-type {\n",
       "        vertical-align: middle;\n",
       "    }\n",
       "\n",
       "    .dataframe tbody tr th {\n",
       "        vertical-align: top;\n",
       "    }\n",
       "\n",
       "    .dataframe thead th {\n",
       "        text-align: right;\n",
       "    }\n",
       "</style>\n",
       "<table border=\"1\" class=\"dataframe\">\n",
       "  <thead>\n",
       "    <tr style=\"text-align: right;\">\n",
       "      <th></th>\n",
       "      <th>Bedroom</th>\n",
       "      <th>Bathroom</th>\n",
       "      <th>Living Area Sqft</th>\n",
       "    </tr>\n",
       "  </thead>\n",
       "  <tbody>\n",
       "    <tr>\n",
       "      <th>House</th>\n",
       "      <td>3</td>\n",
       "      <td>2.5</td>\n",
       "      <td>2500</td>\n",
       "    </tr>\n",
       "  </tbody>\n",
       "</table>\n",
       "</div>"
      ],
      "text/plain": [
       "       Bedroom  Bathroom  Living Area Sqft\n",
       "House        3       2.5              2500"
      ]
     },
     "execution_count": 24,
     "metadata": {},
     "output_type": "execute_result"
    }
   ],
   "source": [
    "X_to_pred = get_X_to_predict()\n",
    "X_to_pred"
   ]
  },
  {
   "cell_type": "code",
   "execution_count": 25,
   "id": "d6b07627-ff45-4418-a7cd-50d08dfc15a6",
   "metadata": {},
   "outputs": [
    {
     "data": {
      "text/plain": [
       "pandas.core.frame.DataFrame"
      ]
     },
     "execution_count": 25,
     "metadata": {},
     "output_type": "execute_result"
    }
   ],
   "source": [
    "type(X_to_pred)"
   ]
  },
  {
   "cell_type": "code",
   "execution_count": 27,
   "id": "5efc12bc-38e7-4fff-8d38-3ac5dde5c4b1",
   "metadata": {},
   "outputs": [],
   "source": [
    "#print(get_prediction(linreg_model,X_to_pred))"
   ]
  },
  {
   "cell_type": "code",
   "execution_count": null,
   "id": "f6118c37-6940-48fb-828f-35e4728c7197",
   "metadata": {},
   "outputs": [],
   "source": [
    "# #predict one value\n",
    "# linreg_model.predict(X_to_pred)[0]"
   ]
  },
  {
   "cell_type": "code",
   "execution_count": null,
   "id": "1b0ca4c3-8bd2-448e-afb5-6c272eefdec6",
   "metadata": {},
   "outputs": [],
   "source": [
    "X_train['bedrooms'].max()"
   ]
  },
  {
   "cell_type": "code",
   "execution_count": null,
   "id": "8f36ee97-1321-4851-b3f9-1148df046a72",
   "metadata": {},
   "outputs": [],
   "source": []
  }
 ],
 "metadata": {
  "kernelspec": {
   "display_name": "Python 3 (ipykernel)",
   "language": "python",
   "name": "python3"
  },
  "language_info": {
   "codemirror_mode": {
    "name": "ipython",
    "version": 3
   },
   "file_extension": ".py",
   "mimetype": "text/x-python",
   "name": "python",
   "nbconvert_exporter": "python",
   "pygments_lexer": "ipython3",
   "version": "3.10.10"
  }
 },
 "nbformat": 4,
 "nbformat_minor": 5
}
